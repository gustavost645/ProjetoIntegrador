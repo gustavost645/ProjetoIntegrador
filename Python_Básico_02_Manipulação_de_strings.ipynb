{
  "nbformat": 4,
  "nbformat_minor": 0,
  "metadata": {
    "colab": {
      "name": "Python Básico 02 - Manipulação de strings.ipynb",
      "provenance": [],
      "collapsed_sections": [],
      "include_colab_link": true
    },
    "kernelspec": {
      "name": "python3",
      "display_name": "Python 3"
    }
  },
  "cells": [
    {
      "cell_type": "markdown",
      "metadata": {
        "id": "view-in-github",
        "colab_type": "text"
      },
      "source": [
        "<a href=\"https://colab.research.google.com/github/gustavost645/ProjetoIntegrador/blob/main/Python_B%C3%A1sico_02_Manipula%C3%A7%C3%A3o_de_strings.ipynb\" target=\"_parent\"><img src=\"https://colab.research.google.com/assets/colab-badge.svg\" alt=\"Open In Colab\"/></a>"
      ]
    },
    {
      "cell_type": "markdown",
      "metadata": {
        "id": "eJbkoKIhVtuf"
      },
      "source": [
        "# Manipulação de strings\n",
        "O Python permite formar strings com um par de aspas simples ou duplas.\n",
        "https://developers.google.com/edu/python/strings"
      ]
    },
    {
      "cell_type": "code",
      "metadata": {
        "id": "TspZ9SRGqF1l"
      },
      "source": [
        "palavra = 'univates'\n",
        "print(palavra)"
      ],
      "execution_count": null,
      "outputs": []
    },
    {
      "cell_type": "code",
      "metadata": {
        "id": "ECcuB0rPqNLV"
      },
      "source": [
        "# Converter para maiúsculo\n",
        "maiuscula = palavra.upper()\n",
        "print(maiuscula)"
      ],
      "execution_count": null,
      "outputs": []
    },
    {
      "cell_type": "code",
      "metadata": {
        "id": "Y7ew8u5nqa0s"
      },
      "source": [
        "# Converter para minúsculo\n",
        "minuscula = maiuscula.lower()\n",
        "print(minuscula)"
      ],
      "execution_count": null,
      "outputs": []
    },
    {
      "cell_type": "code",
      "metadata": {
        "id": "_n4eG1K3qjIG"
      },
      "source": [
        "# Capitalizar a primeira letra da string\n",
        "capital = palavra.capitalize()\n",
        "print(capital)"
      ],
      "execution_count": null,
      "outputs": []
    },
    {
      "cell_type": "code",
      "metadata": {
        "id": "7cb8yYi_qukU"
      },
      "source": [
        "# Pegar 'partes' de uma string\n",
        "parte = palavra[0]\n",
        "print(parte)"
      ],
      "execution_count": null,
      "outputs": []
    },
    {
      "cell_type": "code",
      "metadata": {
        "id": "MR-NHXsPTiww"
      },
      "source": [
        "# Pegar 'partes' de uma string\n",
        "parte = palavra[3:6]\n",
        "print(parte)"
      ],
      "execution_count": null,
      "outputs": []
    },
    {
      "cell_type": "code",
      "metadata": {
        "id": "Z7XlHkUGSzH5"
      },
      "source": [
        "# Pegar 'partes' de uma string\n",
        "parte = palavra[3:]\n",
        "print(parte)"
      ],
      "execution_count": null,
      "outputs": []
    },
    {
      "cell_type": "code",
      "metadata": {
        "id": "dLLyj6RaTAU1"
      },
      "source": [
        "# Pegar 'partes' de uma string\n",
        "parte = palavra[:2]\n",
        "print(parte)"
      ],
      "execution_count": null,
      "outputs": []
    },
    {
      "cell_type": "code",
      "metadata": {
        "id": "M0zabxMJrIfI"
      },
      "source": [
        "# Pegar 'partes' de uma string\n",
        "parte = palavra[-3:]\n",
        "print(parte)"
      ],
      "execution_count": null,
      "outputs": []
    },
    {
      "cell_type": "code",
      "metadata": {
        "id": "F4VyXvoWrT1y"
      },
      "source": [
        "# A função replace() substitui uma parte do texto por uma outra String\n",
        "x = palavra\n",
        "y = x.replace('va', 'xx')\n",
        "print(x)\n",
        "print(y)"
      ],
      "execution_count": null,
      "outputs": []
    },
    {
      "cell_type": "code",
      "metadata": {
        "id": "wKLt-VwLrk8F"
      },
      "source": [
        "# A função replace() substitui uma parte do texto por uma outra String\n",
        "z = x.replace('a', 'o')\n",
        "print(z)"
      ],
      "execution_count": null,
      "outputs": []
    },
    {
      "cell_type": "code",
      "metadata": {
        "id": "2k0QLQmirwVa"
      },
      "source": [
        "# Pegar um caractere e encontra (find) em qual índice aquele caractere aparece\n",
        "z.find('t')"
      ],
      "execution_count": null,
      "outputs": []
    },
    {
      "cell_type": "code",
      "metadata": {
        "id": "4NANRZUyr6Yu"
      },
      "source": [
        "# Pegar um caractere e encontra (find) em qual índice aquele caractere aparece\n",
        "z.find('a')"
      ],
      "execution_count": null,
      "outputs": []
    },
    {
      "cell_type": "code",
      "metadata": {
        "id": "fdYqKZ0bsQoH"
      },
      "source": [
        "# Retorna o número de caracteres no string\n",
        "cidade = 'lajeado'\n",
        "print(len(cidade))"
      ],
      "execution_count": null,
      "outputs": []
    },
    {
      "cell_type": "code",
      "metadata": {
        "id": "dAiQ-Tvvsq5w"
      },
      "source": [
        "n1 = 14\n",
        "n2 = 16"
      ],
      "execution_count": null,
      "outputs": []
    },
    {
      "cell_type": "code",
      "metadata": {
        "id": "lZF900eqU6Ro"
      },
      "source": [
        "print('Dividindo ', n1, ' por ', n2, ' o resultado é ', n1/n2)"
      ],
      "execution_count": null,
      "outputs": []
    },
    {
      "cell_type": "code",
      "metadata": {
        "id": "TbGUSRf3XJNF"
      },
      "source": [
        "pi = 3.14\n",
        "##text = 'O valor de pi é ' + pi      ## NÃO, não vai funcionar\n",
        "text = 'O valor de pi é '  + str(pi)  ## SIM\n",
        "print(text)"
      ],
      "execution_count": null,
      "outputs": []
    },
    {
      "cell_type": "code",
      "metadata": {
        "id": "790k0NTEsuiq"
      },
      "source": [
        "# Dentro de uma string pode-se escrever uma expressão Python entre caracteres { e }, \n",
        "# que podem se referir a variáveis, ou valores literais\n",
        "print(f'Dividindo {n1} por {n2} o resultado é {n1/n2}')"
      ],
      "execution_count": null,
      "outputs": []
    },
    {
      "cell_type": "markdown",
      "source": [
        "More Python Strings:\n",
        "https://developers.google.com/edu/python/strings"
      ],
      "metadata": {
        "id": "7Zfkm4Wnfo-s"
      }
    }
  ]
}