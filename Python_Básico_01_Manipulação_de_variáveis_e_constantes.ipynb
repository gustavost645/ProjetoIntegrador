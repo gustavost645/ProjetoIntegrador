{
  "nbformat": 4,
  "nbformat_minor": 0,
  "metadata": {
    "colab": {
      "name": "Python Básico 01 - Manipulação de variáveis e constantes.ipynb",
      "provenance": [],
      "collapsed_sections": [],
      "include_colab_link": true
    },
    "kernelspec": {
      "name": "python3",
      "display_name": "Python 3"
    }
  },
  "cells": [
    {
      "cell_type": "markdown",
      "metadata": {
        "id": "view-in-github",
        "colab_type": "text"
      },
      "source": [
        "<a href=\"https://colab.research.google.com/github/gustavost645/ProjetoIntegrador/blob/main/Python_B%C3%A1sico_01_Manipula%C3%A7%C3%A3o_de_vari%C3%A1veis_e_constantes.ipynb\" target=\"_parent\"><img src=\"https://colab.research.google.com/assets/colab-badge.svg\" alt=\"Open In Colab\"/></a>"
      ]
    },
    {
      "cell_type": "markdown",
      "metadata": {
        "id": "V8QjcFa6R5y2"
      },
      "source": [
        "# Manipulação de variáveis e constantes"
      ]
    },
    {
      "cell_type": "markdown",
      "metadata": {
        "id": "vpSo8ozVTLCo"
      },
      "source": [
        "## Tipo de variáveis\n",
        "\n",
        "- Inteiros: valores positivos ou negativos, que não possuem uma parte fracionária. Exemplos: 1, 30, 40, 12, -50\n",
        "- Float (real): valores positivos ou negativos, que podem possuir uma parte fracionária (também podem ser inteiros). Exemplos: 1.4, 6.7, 10.3, 100, -47\n",
        "- Caracteres (char ou string): qualquer elemento presente no teclado. Exemplos: “Maria”, “João”, ‘M’, ‘F’\n",
        "- Lógico (boleano): verdadeiro ou falso. Exemplos: true, false, 1, 0\n",
        "\n",
        "O Python utiliza **Tipagem Dinâmica**, ou seja, o próprio programa “entende” qual tipo de dados está sendo usado e, portanto, seu tipo não precisa ser previamente declarado."
      ]
    },
    {
      "cell_type": "markdown",
      "source": [
        "## Convenções de nomenclatura\n",
        "*   **Variável:** salario, horasTrabalhadas, estaAusente\n",
        "*   **Contante:** TAXA_JURO, SALARIO_FAMILIA\n",
        "*   **Função ou método:** imprimirResultados, mostraMaior\n",
        "*   **Classe:** ContaBancaria, ConjuntoOrdenado"
      ],
      "metadata": {
        "id": "oz8h8iJhVAQd"
      }
    },
    {
      "cell_type": "markdown",
      "metadata": {
        "id": "dJuQ83faR_Pc"
      },
      "source": [
        "## Variáveis inteiras"
      ]
    },
    {
      "cell_type": "code",
      "metadata": {
        "id": "AlNS5Ngsm_dB"
      },
      "source": [
        "numero = -3\n",
        "numero_jogos = 14\n",
        "numero_convidados = 15"
      ],
      "execution_count": null,
      "outputs": []
    },
    {
      "cell_type": "code",
      "metadata": {
        "id": "h11ASYEknOD1"
      },
      "source": [
        "numero"
      ],
      "execution_count": null,
      "outputs": []
    },
    {
      "cell_type": "code",
      "metadata": {
        "id": "c8kmjtIinQNi"
      },
      "source": [
        "# A função de saída padrão 'print' exibe seus argumentos no console\n",
        "print(numero)"
      ],
      "execution_count": null,
      "outputs": []
    },
    {
      "cell_type": "code",
      "metadata": {
        "id": "DZO5FgrjZfhX"
      },
      "source": [
        "# Aspas simples ou aspas duplas?\n",
        "print('Você digitou o número: ', numero)"
      ],
      "execution_count": null,
      "outputs": []
    },
    {
      "cell_type": "code",
      "metadata": {
        "id": "KP0Wt0yynY7b"
      },
      "source": [
        "print('Valor final: ', numero_jogos, ' - ', numero_convidados)\n",
        "print(\"Valor final de 'numero':\", numero)"
      ],
      "execution_count": null,
      "outputs": []
    },
    {
      "cell_type": "markdown",
      "metadata": {
        "id": "JhCsz7fBSQ8E"
      },
      "source": [
        "## Variáveis float (real)"
      ]
    },
    {
      "cell_type": "code",
      "metadata": {
        "id": "wNQq80punev_"
      },
      "source": [
        "pi = 3.14\n",
        "valor_dolar = 5.86\n",
        "preco_gasolina = 5.80"
      ],
      "execution_count": null,
      "outputs": []
    },
    {
      "cell_type": "code",
      "metadata": {
        "id": "yusfNXQ2nmCv"
      },
      "source": [
        "print(pi)\n",
        "print(valor_dolar)\n",
        "print(preco_gasolina)"
      ],
      "execution_count": null,
      "outputs": []
    },
    {
      "cell_type": "code",
      "metadata": {
        "id": "HUgK_ul4Zt1t"
      },
      "source": [
        "# O separador de decimal é o ponto '.'\n",
        "salario = 1098,27\n",
        "print(salario)"
      ],
      "execution_count": null,
      "outputs": []
    },
    {
      "cell_type": "markdown",
      "metadata": {
        "id": "fCiZKeOFSwig"
      },
      "source": [
        "## Strings e chars"
      ]
    },
    {
      "cell_type": "code",
      "metadata": {
        "id": "yvccp63ZnvEZ"
      },
      "source": [
        "letra = 'a'\n",
        "frase1 = 'Linguagem de programação'\n",
        "palavra1 = 'Python'"
      ],
      "execution_count": null,
      "outputs": []
    },
    {
      "cell_type": "code",
      "metadata": {
        "id": "AwZul8K-n3L-"
      },
      "source": [
        "print(letra, palavra1)"
      ],
      "execution_count": null,
      "outputs": []
    },
    {
      "cell_type": "code",
      "metadata": {
        "id": "G6CsiJS0akK9"
      },
      "source": [
        "print(letra, ' - ', palavra1)"
      ],
      "execution_count": null,
      "outputs": []
    },
    {
      "cell_type": "code",
      "metadata": {
        "id": "DnEKLamYn7Vw"
      },
      "source": [
        "print('Estou aprendendo uma', frase1)"
      ],
      "execution_count": null,
      "outputs": []
    },
    {
      "cell_type": "code",
      "metadata": {
        "id": "07uhcWXEoGHs"
      },
      "source": [
        "# Quebra de linha com \\n\n",
        "print('Esta', frase1, '\\nse chama', palavra1)"
      ],
      "execution_count": null,
      "outputs": []
    },
    {
      "cell_type": "markdown",
      "metadata": {
        "id": "UpFEYO3oaLnM"
      },
      "source": [
        "# Comentários em Python\n",
        "\n",
        "NOTAÇÃO INLINE\n",
        "Utilizamos o caractere cerquilha # para demarcarmos que tudo que estiver a frente desse caractere, deve ser ignorado pelo interpretador do Python\n",
        "\n",
        "NOTAÇÃO MULTILINES (VÁRIAS LINHAS)\n",
        "A linguagem Python também disponibiliza uma notação para demarcarmos que um conjunto de linhas deve ser ignorado pelo interpretador. Essa notação se dá pelo uso de 3 aspas simples, ou entao, 3 aspas duplas. Nestes casos, tudo que estiver delimitado pelas aspas não será interpretado."
      ]
    },
    {
      "cell_type": "code",
      "metadata": {
        "id": "GA0fxsTHaOYD"
      },
      "source": [
        "# Tudo que estiver a frente da cerquilha será ignorado\n",
        "print('teste') # a instrução atrás da cerquilha será interpretada\n",
        "# Tecla de atalho: ctrl + /"
      ],
      "execution_count": null,
      "outputs": []
    },
    {
      "cell_type": "code",
      "source": [
        "'''\n",
        "todas informações contida entre 3 aspas SIMPLES\n",
        "é considerada como caracteres que devem ser ignorados.\n",
        "'''\n",
        "print('Simples assim...')"
      ],
      "metadata": {
        "id": "_b6CjmNXUhcO"
      },
      "execution_count": null,
      "outputs": []
    },
    {
      "cell_type": "code",
      "metadata": {
        "id": "HpqZyGJwaRfk"
      },
      "source": [
        "\"\"\"\n",
        "todas informações contida entre 3 aspas SIMPLES\n",
        "é considerada como caracteres que devem ser ignorados.\n",
        "\"\"\"\n",
        "print(\"Simples assim também...\")"
      ],
      "execution_count": null,
      "outputs": []
    },
    {
      "cell_type": "markdown",
      "metadata": {
        "id": "cjN_YAwMaWIH"
      },
      "source": [
        "# Leitura de Variáveis String"
      ]
    },
    {
      "cell_type": "code",
      "metadata": {
        "id": "wbR7ALX9aYIT"
      },
      "source": [
        "# A função de entrada padrão 'input' espera que o usuário insira texto no teclado\n",
        "nome = input('Qual o seu nome? ')\n",
        "print('Seu nome é', nome)"
      ],
      "execution_count": null,
      "outputs": []
    },
    {
      "cell_type": "code",
      "metadata": {
        "id": "04hQufAMaaIW"
      },
      "source": [
        "# Funções para conversão de tipo 'int'\n",
        "idade = int(input('Digite sua idade: '))\n",
        "print('Sua idade é ', idade)"
      ],
      "execution_count": null,
      "outputs": []
    },
    {
      "cell_type": "code",
      "metadata": {
        "id": "YeS-UPTyacxE"
      },
      "source": [
        "# Funções para conversão de tipo 'float'\n",
        "dolar = float(input('Qual a cotação de hoje do dólar: '))\n",
        "print('O valor do dólar é ', dolar)"
      ],
      "execution_count": null,
      "outputs": []
    },
    {
      "cell_type": "code",
      "metadata": {
        "id": "Ux2Qkhacae0v"
      },
      "source": [
        "# Funções para conversão de tipo 'str'\n",
        "# Concatenando duas strings...\n",
        "num = 10\n",
        "print('10' + str(num))"
      ],
      "execution_count": null,
      "outputs": []
    }
  ]
}